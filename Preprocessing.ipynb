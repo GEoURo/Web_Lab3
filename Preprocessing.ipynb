{
 "cells": [
  {
   "cell_type": "code",
   "execution_count": 1,
   "metadata": {},
   "outputs": [],
   "source": [
    "import os\n",
    "import pickle\n",
    "import pandas as pd\n",
    "import numpy as np\n",
    "from sklearn.preprocessing import LabelEncoder"
   ]
  },
  {
   "cell_type": "code",
   "execution_count": 10,
   "metadata": {},
   "outputs": [],
   "source": [
    "train_set_path = './train/train.txt'\n",
    "contact_path = './train/Contact.txt'\n",
    "test_set_path = './test/test.txt'"
   ]
  },
  {
   "cell_type": "code",
   "execution_count": 3,
   "metadata": {},
   "outputs": [],
   "source": [
    "readfile = open(os.path.join(train_set_path), 'r')\n",
    "train_data_list = readfile.readlines()\n",
    "train_len = len(train_data_list)\n",
    "readfile.close()"
   ]
  },
  {
   "cell_type": "code",
   "execution_count": 4,
   "metadata": {},
   "outputs": [],
   "source": [
    "train_data_list = [ line.rstrip().split(',') for line in train_data_list ]\n",
    "\n",
    "train_data_list = [ [int(line[0]), int(line[1]), float(line[2]), line[3], [tag for tag in line[4:]]] for line in train_data_list ]\n",
    "\n",
    "train_df = pd.DataFrame(train_data_list, columns=['UID', 'MID', 'Mark', 'Timestamp', 'Tags'])"
   ]
  },
  {
   "cell_type": "code",
   "execution_count": 5,
   "metadata": {},
   "outputs": [],
   "source": [
    "train_df.to_csv('./train/train.csv', index=False)"
   ]
  },
  {
   "cell_type": "code",
   "execution_count": 11,
   "metadata": {},
   "outputs": [],
   "source": [
    "readfile = open(os.path.join(test_set_path), 'r')\n",
    "test_data_list = readfile.readlines()\n",
    "test_len = len(test_data_list)\n",
    "readfile.close()"
   ]
  },
  {
   "cell_type": "code",
   "execution_count": 12,
   "metadata": {},
   "outputs": [],
   "source": [
    "test_data_list = [ line.rstrip().split(',') for line in test_data_list ]\n",
    "\n",
    "test_data_list = [ [int(line[0]), int(line[1]), line[2], [tag for tag in line[3:]]] for line in test_data_list ]\n",
    "\n",
    "test_df = pd.DataFrame(test_data_list, columns=['UID', 'MID', 'Timestamp', 'Tags'])"
   ]
  },
  {
   "cell_type": "code",
   "execution_count": 13,
   "metadata": {},
   "outputs": [],
   "source": [
    "test_df.to_csv('./test/test.csv', index=False)"
   ]
  },
  {
   "cell_type": "code",
   "execution_count": 6,
   "metadata": {},
   "outputs": [
    {
     "data": {
      "text/plain": [
       "LabelEncoder()"
      ]
     },
     "execution_count": 6,
     "metadata": {},
     "output_type": "execute_result"
    }
   ],
   "source": [
    "UID_enc = LabelEncoder()\n",
    "MID_enc = LabelEncoder()\n",
    "\n",
    "UID_enc.fit(train_df.UID.unique())\n",
    "MID_enc.fit(train_df.MID.unique())"
   ]
  },
  {
   "cell_type": "code",
   "execution_count": 7,
   "metadata": {},
   "outputs": [],
   "source": [
    "train_df = pd.read_csv('./train/train.csv')"
   ]
  },
  {
   "cell_type": "code",
   "execution_count": 8,
   "metadata": {},
   "outputs": [
    {
     "data": {
      "text/html": [
       "<div>\n",
       "<style scoped>\n",
       "    .dataframe tbody tr th:only-of-type {\n",
       "        vertical-align: middle;\n",
       "    }\n",
       "\n",
       "    .dataframe tbody tr th {\n",
       "        vertical-align: top;\n",
       "    }\n",
       "\n",
       "    .dataframe thead th {\n",
       "        text-align: right;\n",
       "    }\n",
       "</style>\n",
       "<table border=\"1\" class=\"dataframe\">\n",
       "  <thead>\n",
       "    <tr style=\"text-align: right;\">\n",
       "      <th></th>\n",
       "      <th>UID</th>\n",
       "      <th>MID</th>\n",
       "      <th>Mark</th>\n",
       "      <th>Timestamp</th>\n",
       "      <th>Tags</th>\n",
       "    </tr>\n",
       "  </thead>\n",
       "  <tbody>\n",
       "    <tr>\n",
       "      <th>0</th>\n",
       "      <td>1000030</td>\n",
       "      <td>1292213</td>\n",
       "      <td>5.0</td>\n",
       "      <td>2005-11-28T13:54:08+08:00</td>\n",
       "      <td>['']</td>\n",
       "    </tr>\n",
       "    <tr>\n",
       "      <th>1</th>\n",
       "      <td>1000030</td>\n",
       "      <td>1457573</td>\n",
       "      <td>4.0</td>\n",
       "      <td>2006-03-31T09:51:01+08:00</td>\n",
       "      <td>['']</td>\n",
       "    </tr>\n",
       "    <tr>\n",
       "      <th>2</th>\n",
       "      <td>1000030</td>\n",
       "      <td>1451413</td>\n",
       "      <td>3.0</td>\n",
       "      <td>2006-03-21T00:13:45+08:00</td>\n",
       "      <td>['']</td>\n",
       "    </tr>\n",
       "    <tr>\n",
       "      <th>3</th>\n",
       "      <td>1000030</td>\n",
       "      <td>1306526</td>\n",
       "      <td>0.0</td>\n",
       "      <td>2007-04-19T00:10:11+08:00</td>\n",
       "      <td>['']</td>\n",
       "    </tr>\n",
       "    <tr>\n",
       "      <th>4</th>\n",
       "      <td>1000030</td>\n",
       "      <td>1477321</td>\n",
       "      <td>2.0</td>\n",
       "      <td>2007-08-25T00:25:03+08:00</td>\n",
       "      <td>['日剧']</td>\n",
       "    </tr>\n",
       "    <tr>\n",
       "      <th>5</th>\n",
       "      <td>1000030</td>\n",
       "      <td>1291870</td>\n",
       "      <td>0.0</td>\n",
       "      <td>2005-12-12T11:53:15+08:00</td>\n",
       "      <td>['']</td>\n",
       "    </tr>\n",
       "    <tr>\n",
       "      <th>6</th>\n",
       "      <td>1000030</td>\n",
       "      <td>1291843</td>\n",
       "      <td>0.0</td>\n",
       "      <td>2005-12-11T11:34:33+08:00</td>\n",
       "      <td>['']</td>\n",
       "    </tr>\n",
       "    <tr>\n",
       "      <th>7</th>\n",
       "      <td>1000030</td>\n",
       "      <td>2004001</td>\n",
       "      <td>5.0</td>\n",
       "      <td>2007-07-22T18:55:19+08:00</td>\n",
       "      <td>['']</td>\n",
       "    </tr>\n",
       "    <tr>\n",
       "      <th>8</th>\n",
       "      <td>1000030</td>\n",
       "      <td>1309044</td>\n",
       "      <td>0.0</td>\n",
       "      <td>2005-12-11T11:34:45+08:00</td>\n",
       "      <td>['']</td>\n",
       "    </tr>\n",
       "    <tr>\n",
       "      <th>9</th>\n",
       "      <td>1000030</td>\n",
       "      <td>2144242</td>\n",
       "      <td>5.0</td>\n",
       "      <td>2008-05-27T09:56:57+08:00</td>\n",
       "      <td>['经典', '灾难', '科幻', '惊悚', 'DV']</td>\n",
       "    </tr>\n",
       "  </tbody>\n",
       "</table>\n",
       "</div>"
      ],
      "text/plain": [
       "       UID      MID  Mark                  Timestamp  \\\n",
       "0  1000030  1292213   5.0  2005-11-28T13:54:08+08:00   \n",
       "1  1000030  1457573   4.0  2006-03-31T09:51:01+08:00   \n",
       "2  1000030  1451413   3.0  2006-03-21T00:13:45+08:00   \n",
       "3  1000030  1306526   0.0  2007-04-19T00:10:11+08:00   \n",
       "4  1000030  1477321   2.0  2007-08-25T00:25:03+08:00   \n",
       "5  1000030  1291870   0.0  2005-12-12T11:53:15+08:00   \n",
       "6  1000030  1291843   0.0  2005-12-11T11:34:33+08:00   \n",
       "7  1000030  2004001   5.0  2007-07-22T18:55:19+08:00   \n",
       "8  1000030  1309044   0.0  2005-12-11T11:34:45+08:00   \n",
       "9  1000030  2144242   5.0  2008-05-27T09:56:57+08:00   \n",
       "\n",
       "                             Tags  \n",
       "0                            ['']  \n",
       "1                            ['']  \n",
       "2                            ['']  \n",
       "3                            ['']  \n",
       "4                          ['日剧']  \n",
       "5                            ['']  \n",
       "6                            ['']  \n",
       "7                            ['']  \n",
       "8                            ['']  \n",
       "9  ['经典', '灾难', '科幻', '惊悚', 'DV']  "
      ]
     },
     "execution_count": 8,
     "metadata": {},
     "output_type": "execute_result"
    }
   ],
   "source": [
    "train_df.head(10)"
   ]
  }
 ],
 "metadata": {
  "kernelspec": {
   "display_name": "Python 3",
   "language": "python",
   "name": "python3"
  },
  "language_info": {
   "codemirror_mode": {
    "name": "ipython",
    "version": 3
   },
   "file_extension": ".py",
   "mimetype": "text/x-python",
   "name": "python",
   "nbconvert_exporter": "python",
   "pygments_lexer": "ipython3",
   "version": "3.6.8"
  }
 },
 "nbformat": 4,
 "nbformat_minor": 4
}
